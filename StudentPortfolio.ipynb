{
 "cells": [
  {
   "cell_type": "markdown",
   "id": "a9a7a774",
   "metadata": {},
   "source": [
    "# PROJECT 1.0- Student Portfolio"
   ]
  },
  {
   "cell_type": "code",
   "execution_count": 1,
   "id": "01007679",
   "metadata": {},
   "outputs": [
    {
     "name": "stdout",
     "output_type": "stream",
     "text": [
      "Enter your name: Raj\n",
      "Standard: 11\n",
      "Division: A\n",
      "Enter your Roll no.: 1123\n",
      "Enter marks in Maths: 98\n",
      "Enter marks in English: 92\n",
      "Enter marks in Science: 95\n",
      "\n",
      "\n",
      " NAME: Raj\n",
      " STANDARD: 11\n",
      " DIVISION: A\n",
      " ROLL NUMBER: 1123\n",
      "\n",
      "\n",
      " MATHS:  98 \n",
      " ENGLISH:  92 \n",
      " SCIENCE:  95\n",
      "\n",
      "\n",
      " PERCENTAGE:  95.0\n"
     ]
    }
   ],
   "source": [
    "name= input(\"Enter your name: \")\n",
    "\n",
    "std= input(\"Standard: \")\n",
    "div= input(\"Division: \")\n",
    "roll= int(input(\"Enter your Roll no.: \"))\n",
    "\n",
    "maths= int(input(\"Enter marks in Maths: \"))\n",
    "eng= int(input(\"Enter marks in English: \"))\n",
    "sci= int(input(\"Enter marks in Science: \"))\n",
    "\n",
    "percent= (maths+eng+sci)/3\n",
    "\n",
    "print('\\n')\n",
    "print(\" NAME: \"+name + '\\n' + \" STANDARD: \"+std + '\\n' +\" DIVISION: \"+div)\n",
    "print(\" ROLL NUMBER:\",roll)\n",
    "print('\\n')\n",
    "print( \" MATHS: \",maths,'\\n',\"ENGLISH: \",eng,'\\n',\"SCIENCE: \",sci)\n",
    "print('\\n')\n",
    "print(\" PERCENTAGE: \",percent)"
   ]
  },
  {
   "cell_type": "code",
   "execution_count": null,
   "id": "d405c7c6",
   "metadata": {},
   "outputs": [],
   "source": []
  }
 ],
 "metadata": {
  "kernelspec": {
   "display_name": "Python 3",
   "language": "python",
   "name": "python3"
  },
  "language_info": {
   "codemirror_mode": {
    "name": "ipython",
    "version": 3
   },
   "file_extension": ".py",
   "mimetype": "text/x-python",
   "name": "python",
   "nbconvert_exporter": "python",
   "pygments_lexer": "ipython3",
   "version": "3.8.8"
  }
 },
 "nbformat": 4,
 "nbformat_minor": 5
}
